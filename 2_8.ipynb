{
  "nbformat": 4,
  "nbformat_minor": 0,
  "metadata": {
    "colab": {
      "provenance": [],
      "collapsed_sections": [],
      "authorship_tag": "ABX9TyOMFSu+N6mTdmmiZNAxjQE8",
      "include_colab_link": true
    },
    "kernelspec": {
      "name": "ir",
      "display_name": "R"
    },
    "language_info": {
      "name": "R"
    },
    "gpuClass": "standard"
  },
  "cells": [
    {
      "cell_type": "markdown",
      "metadata": {
        "id": "view-in-github",
        "colab_type": "text"
      },
      "source": [
        "<a href=\"https://colab.research.google.com/github/Mnd6502/Mnd6502/blob/main/2_8.ipynb\" target=\"_parent\"><img src=\"https://colab.research.google.com/assets/colab-badge.svg\" alt=\"Open In Colab\"/></a>"
      ]
    },
    {
      "cell_type": "code",
      "execution_count": 3,
      "metadata": {
        "id": "f3e409c2-5b9a-47c0-9056-b1808c47b8d2"
      },
      "outputs": [],
      "source": [
        "library(ggplot2)\n",
        "library(readxl)"
      ]
    },
    {
      "cell_type": "code",
      "execution_count": 4,
      "metadata": {
        "id": "f870eb67-9f4d-455d-8edc-50ff5edc9f09"
      },
      "outputs": [],
      "source": [
        "path = 'https://raw.githubusercontent.com/McKenzieLamb/Regression-Analysis-Data-Sets/main/Data_Sets_CSV/Chapter%202/Problems/data-prob-2-7%20-%20Sheet1.csv'"
      ]
    },
    {
      "cell_type": "code",
      "execution_count": 7,
      "metadata": {
        "id": "ac96521f-b3c0-45c8-a5f1-f526d4b3b669",
        "colab": {
          "base_uri": "https://localhost:8080/",
          "height": 743
        },
        "outputId": "d77e3189-c65d-4854-ac0f-3fd36d8ca157"
      },
      "outputs": [
        {
          "output_type": "display_data",
          "data": {
            "text/html": [
              "<table class=\"dataframe\">\n",
              "<caption>A data.frame: 20 × 2</caption>\n",
              "<thead>\n",
              "\t<tr><th scope=col>purity</th><th scope=col>hydro</th></tr>\n",
              "\t<tr><th scope=col>&lt;dbl&gt;</th><th scope=col>&lt;dbl&gt;</th></tr>\n",
              "</thead>\n",
              "<tbody>\n",
              "\t<tr><td>86.91</td><td>1.02</td></tr>\n",
              "\t<tr><td>89.85</td><td>1.11</td></tr>\n",
              "\t<tr><td>90.28</td><td>1.43</td></tr>\n",
              "\t<tr><td>86.34</td><td>1.11</td></tr>\n",
              "\t<tr><td>92.58</td><td>1.01</td></tr>\n",
              "\t<tr><td>87.33</td><td>0.95</td></tr>\n",
              "\t<tr><td>86.29</td><td>1.11</td></tr>\n",
              "\t<tr><td>91.86</td><td>0.87</td></tr>\n",
              "\t<tr><td>95.61</td><td>1.43</td></tr>\n",
              "\t<tr><td>89.86</td><td>1.02</td></tr>\n",
              "\t<tr><td>96.73</td><td>1.46</td></tr>\n",
              "\t<tr><td>99.42</td><td>1.55</td></tr>\n",
              "\t<tr><td>98.66</td><td>1.55</td></tr>\n",
              "\t<tr><td>96.07</td><td>1.55</td></tr>\n",
              "\t<tr><td>93.65</td><td>1.40</td></tr>\n",
              "\t<tr><td>87.31</td><td>1.15</td></tr>\n",
              "\t<tr><td>95.00</td><td>1.01</td></tr>\n",
              "\t<tr><td>96.85</td><td>0.99</td></tr>\n",
              "\t<tr><td>85.20</td><td>0.95</td></tr>\n",
              "\t<tr><td>90.56</td><td>0.98</td></tr>\n",
              "</tbody>\n",
              "</table>\n"
            ],
            "text/markdown": "\nA data.frame: 20 × 2\n\n| purity &lt;dbl&gt; | hydro &lt;dbl&gt; |\n|---|---|\n| 86.91 | 1.02 |\n| 89.85 | 1.11 |\n| 90.28 | 1.43 |\n| 86.34 | 1.11 |\n| 92.58 | 1.01 |\n| 87.33 | 0.95 |\n| 86.29 | 1.11 |\n| 91.86 | 0.87 |\n| 95.61 | 1.43 |\n| 89.86 | 1.02 |\n| 96.73 | 1.46 |\n| 99.42 | 1.55 |\n| 98.66 | 1.55 |\n| 96.07 | 1.55 |\n| 93.65 | 1.40 |\n| 87.31 | 1.15 |\n| 95.00 | 1.01 |\n| 96.85 | 0.99 |\n| 85.20 | 0.95 |\n| 90.56 | 0.98 |\n\n",
            "text/latex": "A data.frame: 20 × 2\n\\begin{tabular}{ll}\n purity & hydro\\\\\n <dbl> & <dbl>\\\\\n\\hline\n\t 86.91 & 1.02\\\\\n\t 89.85 & 1.11\\\\\n\t 90.28 & 1.43\\\\\n\t 86.34 & 1.11\\\\\n\t 92.58 & 1.01\\\\\n\t 87.33 & 0.95\\\\\n\t 86.29 & 1.11\\\\\n\t 91.86 & 0.87\\\\\n\t 95.61 & 1.43\\\\\n\t 89.86 & 1.02\\\\\n\t 96.73 & 1.46\\\\\n\t 99.42 & 1.55\\\\\n\t 98.66 & 1.55\\\\\n\t 96.07 & 1.55\\\\\n\t 93.65 & 1.40\\\\\n\t 87.31 & 1.15\\\\\n\t 95.00 & 1.01\\\\\n\t 96.85 & 0.99\\\\\n\t 85.20 & 0.95\\\\\n\t 90.56 & 0.98\\\\\n\\end{tabular}\n",
            "text/plain": [
              "   purity hydro\n",
              "1  86.91  1.02 \n",
              "2  89.85  1.11 \n",
              "3  90.28  1.43 \n",
              "4  86.34  1.11 \n",
              "5  92.58  1.01 \n",
              "6  87.33  0.95 \n",
              "7  86.29  1.11 \n",
              "8  91.86  0.87 \n",
              "9  95.61  1.43 \n",
              "10 89.86  1.02 \n",
              "11 96.73  1.46 \n",
              "12 99.42  1.55 \n",
              "13 98.66  1.55 \n",
              "14 96.07  1.55 \n",
              "15 93.65  1.40 \n",
              "16 87.31  1.15 \n",
              "17 95.00  1.01 \n",
              "18 96.85  0.99 \n",
              "19 85.20  0.95 \n",
              "20 90.56  0.98 "
            ]
          },
          "metadata": {}
        }
      ],
      "source": [
        "df = read.table(path, sep = ',', header = TRUE)\n",
        "df"
      ]
    },
    {
      "cell_type": "code",
      "execution_count": 10,
      "metadata": {
        "id": "4514c8cd-905c-4878-a834-f8577fd5f5ae",
        "colab": {
          "base_uri": "https://localhost:8080/",
          "height": 34
        },
        "outputId": "ded38356-10d3-452a-b0b2-1e8381772f8c"
      },
      "outputs": [
        {
          "output_type": "display_data",
          "data": {
            "text/html": [
              "0.62379676643"
            ],
            "text/markdown": "0.62379676643",
            "text/latex": "0.62379676643",
            "text/plain": [
              "[1] 0.6237968"
            ]
          },
          "metadata": {}
        }
      ],
      "source": [
        "x <- df$hydro\n",
        "y <- df$purity\n",
        "\n",
        "u1 <- mean(x)\n",
        "stv1 <- sd(x)\n",
        "u2 <- mean(y)\n",
        "stv2 <- sd(y)\n",
        "n <- length(x)\n",
        "Sxx <- sum(x^2) - sum(x)^2/n\n",
        "Sxy <- sum(x * y) - sum(x) * sum(y) / n\n",
        "B1H <- Sxy/Sxx\n",
        "B0H <- mean(y) - B1H * mean(x)\n",
        "SST <- sum((y-u2)^2)\n",
        "r <- cov(x,y)/(stv1*stv2)\n",
        "r\n"
      ]
    },
    {
      "cell_type": "markdown",
      "source": [
        "r = 0.62379676643\n"
      ],
      "metadata": {
        "id": "9nl0GLw6wHJe"
      }
    },
    {
      "cell_type": "markdown",
      "source": [
        "PART  B\n",
        "\n"
      ],
      "metadata": {
        "id": "Av4rI7Ieur8v"
      }
    },
    {
      "cell_type": "code",
      "source": [],
      "metadata": {
        "id": "4DFIw57_wQIc"
      },
      "execution_count": null,
      "outputs": []
    },
    {
      "cell_type": "code",
      "source": [
        "t0 <- r * sqrt(n-2)/sqrt(1-r^2)\n",
        "t0"
      ],
      "metadata": {
        "colab": {
          "base_uri": "https://localhost:8080/",
          "height": 34
        },
        "id": "v_KU-PdEuwwq",
        "outputId": "b3701252-3454-424f-c54a-89192c9a5f36"
      },
      "execution_count": 11,
      "outputs": [
        {
          "output_type": "display_data",
          "data": {
            "text/html": [
              "3.3861194436304"
            ],
            "text/markdown": "3.3861194436304",
            "text/latex": "3.3861194436304",
            "text/plain": [
              "[1] 3.386119"
            ]
          },
          "metadata": {}
        }
      ]
    },
    {
      "cell_type": "code",
      "source": [
        "t_crit <- qt(p=.05/2, df=n-2, lower.tail=FALSE)\n",
        "t_crit"
      ],
      "metadata": {
        "colab": {
          "base_uri": "https://localhost:8080/",
          "height": 34
        },
        "id": "fXAuerlTvXu4",
        "outputId": "2bdf3d56-d3b5-4efa-9975-ba5204ac93e7"
      },
      "execution_count": 14,
      "outputs": [
        {
          "output_type": "display_data",
          "data": {
            "text/html": [
              "2.10092204024104"
            ],
            "text/markdown": "2.10092204024104",
            "text/latex": "2.10092204024104",
            "text/plain": [
              "[1] 2.100922"
            ]
          },
          "metadata": {}
        }
      ]
    },
    {
      "cell_type": "markdown",
      "source": [
        "Ho: p = 0\n",
        "Ha: p != 0\n",
        "Since t0 > t-critical value, we reject Ho and conclude that the correlation coefficient p != 0\n"
      ],
      "metadata": {
        "id": "Xihy54RVvn3c"
      }
    },
    {
      "cell_type": "markdown",
      "source": [
        "PART 3\n"
      ],
      "metadata": {
        "id": "8tlVwRTZwTCF"
      }
    },
    {
      "cell_type": "code",
      "source": [
        "\n",
        "Za <- qnorm(p=.05/2, lower.tail=FALSE)\n",
        "Za"
      ],
      "metadata": {
        "colab": {
          "base_uri": "https://localhost:8080/",
          "height": 34
        },
        "id": "hzbV5WizCwIY",
        "outputId": "f6b9d72e-3649-43df-a274-5df8c2587826"
      },
      "execution_count": 16,
      "outputs": [
        {
          "output_type": "display_data",
          "data": {
            "text/html": [
              "1.95996398454005"
            ],
            "text/markdown": "1.95996398454005",
            "text/latex": "1.95996398454005",
            "text/plain": [
              "[1] 1.959964"
            ]
          },
          "metadata": {}
        }
      ]
    },
    {
      "cell_type": "code",
      "source": [
        "lower = tanh(atanh(r)-Za/sqrt(n-3))\n",
        "higher = tanh(atanh(r)+Za/sqrt(n-3))\n",
        "lower\n",
        "higher\n",
        "r"
      ],
      "metadata": {
        "colab": {
          "base_uri": "https://localhost:8080/",
          "height": 69
        },
        "id": "iHiORkapErvC",
        "outputId": "457d3fc9-0d6c-472c-cbd8-63c4f885b4b6"
      },
      "execution_count": 17,
      "outputs": [
        {
          "output_type": "display_data",
          "data": {
            "text/html": [
              "0.250396076752639"
            ],
            "text/markdown": "0.250396076752639",
            "text/latex": "0.250396076752639",
            "text/plain": [
              "[1] 0.2503961"
            ]
          },
          "metadata": {}
        },
        {
          "output_type": "display_data",
          "data": {
            "text/html": [
              "0.835643878002914"
            ],
            "text/markdown": "0.835643878002914",
            "text/latex": "0.835643878002914",
            "text/plain": [
              "[1] 0.8356439"
            ]
          },
          "metadata": {}
        },
        {
          "output_type": "display_data",
          "data": {
            "text/html": [
              "0.62379676643"
            ],
            "text/markdown": "0.62379676643",
            "text/latex": "0.62379676643",
            "text/plain": [
              "[1] 0.6237968"
            ]
          },
          "metadata": {}
        }
      ]
    },
    {
      "cell_type": "markdown",
      "source": [],
      "metadata": {
        "id": "ZwvSj_LDxHcB"
      }
    }
  ]
}